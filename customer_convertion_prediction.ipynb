{
 "cells": [
  {
   "cell_type": "markdown",
   "id": "e0b47805",
   "metadata": {},
   "source": [
    "# Import Dependencies"
   ]
  },
  {
   "cell_type": "code",
   "execution_count": 1,
   "id": "6b84c34e",
   "metadata": {},
   "outputs": [],
   "source": [
    "import numpy as np\n",
    "import pandas as pd\n",
    "import matplotlib.pyplot as plt\n",
    "import tensorflow as tf\n",
    "import sklearn "
   ]
  },
  {
   "cell_type": "markdown",
   "id": "9576e240",
   "metadata": {},
   "source": [
    "# Load the Data"
   ]
  },
  {
   "cell_type": "code",
   "execution_count": 12,
   "id": "e12c05ba",
   "metadata": {},
   "outputs": [],
   "source": [
    "npz = np.load(\"Audiobook_train_data.npz\")\n",
    "train_inputs, train_targets = npz[\"inputs\"].astype(np.float64), npz[\"targets\"].astype(np.int64)\n",
    "\n",
    "npz = np.load(\"Audiobook_validation_data.npz\")\n",
    "validation_inputs, validation_targets = npz[\"inputs\"].astype(np.float64), npz[\"targets\"].astype(np.int64)\n",
    "\n",
    "npz = np.load(\"Audiobook_test_data.npz\")\n",
    "test_inputs, test_targets = npz[\"inputs\"].astype(np.float64), npz[\"targets\"].astype(np.int64)"
   ]
  },
  {
   "cell_type": "markdown",
   "id": "87dd591a",
   "metadata": {},
   "source": [
    "# Model"
   ]
  },
  {
   "cell_type": "code",
   "execution_count": 14,
   "id": "b19a29e1",
   "metadata": {},
   "outputs": [
    {
     "name": "stdout",
     "output_type": "stream",
     "text": [
      "Epoch 1/100\n",
      "36/36 - 1s - loss: 0.5091 - accuracy: 0.7357 - val_loss: 0.4158 - val_accuracy: 0.7897 - 673ms/epoch - 19ms/step\n",
      "Epoch 2/100\n",
      "36/36 - 0s - loss: 0.4052 - accuracy: 0.7983 - val_loss: 0.3789 - val_accuracy: 0.7763 - 74ms/epoch - 2ms/step\n",
      "Epoch 3/100\n",
      "36/36 - 0s - loss: 0.3740 - accuracy: 0.8066 - val_loss: 0.3629 - val_accuracy: 0.8054 - 74ms/epoch - 2ms/step\n",
      "Epoch 4/100\n",
      "36/36 - 0s - loss: 0.3660 - accuracy: 0.8011 - val_loss: 0.3512 - val_accuracy: 0.8076 - 74ms/epoch - 2ms/step\n",
      "Epoch 5/100\n",
      "36/36 - 0s - loss: 0.3548 - accuracy: 0.8117 - val_loss: 0.3437 - val_accuracy: 0.8054 - 75ms/epoch - 2ms/step\n",
      "Epoch 6/100\n",
      "36/36 - 0s - loss: 0.3487 - accuracy: 0.8058 - val_loss: 0.3369 - val_accuracy: 0.8076 - 74ms/epoch - 2ms/step\n",
      "Epoch 7/100\n",
      "36/36 - 0s - loss: 0.3415 - accuracy: 0.8125 - val_loss: 0.3469 - val_accuracy: 0.8031 - 75ms/epoch - 2ms/step\n",
      "Epoch 8/100\n",
      "36/36 - 0s - loss: 0.3396 - accuracy: 0.8161 - val_loss: 0.3399 - val_accuracy: 0.8188 - 75ms/epoch - 2ms/step\n"
     ]
    },
    {
     "data": {
      "text/plain": [
       "<keras.callbacks.History at 0x1ebede93700>"
      ]
     },
     "execution_count": 14,
     "metadata": {},
     "output_type": "execute_result"
    }
   ],
   "source": [
    "input_size = train_inputs.shape[1]\n",
    "output_size = 2\n",
    "hidden_layer_size = 100\n",
    "\n",
    "model = tf.keras.Sequential([\n",
    "                            tf.keras.layers.Dense(hidden_layer_size, activation = \"relu\"),\n",
    "                            tf.keras.layers.Dense(hidden_layer_size, activation = \"relu\"),\n",
    "                            tf.keras.layers.Dense(output_size, activation = \"sigmoid\")\n",
    "    \n",
    "                            ])\n",
    "model.compile(optimizer = \"adam\", loss = \"sparse_categorical_crossentropy\", metrics = [\"accuracy\"])\n",
    "\n",
    "batch_size = 100\n",
    "max_epocs = 100\n",
    "early_stopping = tf.keras.callbacks.EarlyStopping(patience = 2)\n",
    "\n",
    "model.fit(train_inputs,\n",
    "          train_targets,\n",
    "          batch_size = batch_size,\n",
    "          epochs  = max_epocs,\n",
    "          callbacks = [early_stopping],\n",
    "          validation_data = (validation_inputs, validation_targets),\n",
    "          verbose = 2)"
   ]
  },
  {
   "cell_type": "code",
   "execution_count": 15,
   "id": "0582923f",
   "metadata": {},
   "outputs": [
    {
     "name": "stdout",
     "output_type": "stream",
     "text": [
      "14/14 [==============================] - 0s 1ms/step - loss: 0.3466 - accuracy: 0.8036\n"
     ]
    },
    {
     "data": {
      "text/plain": [
       "[0.34664568305015564, 0.8035714030265808]"
      ]
     },
     "execution_count": 15,
     "metadata": {},
     "output_type": "execute_result"
    }
   ],
   "source": [
    "model.evaluate(test_inputs, test_targets)"
   ]
  },
  {
   "cell_type": "code",
   "execution_count": null,
   "id": "724313b9",
   "metadata": {},
   "outputs": [],
   "source": []
  }
 ],
 "metadata": {
  "kernelspec": {
   "display_name": "tf_env",
   "language": "python",
   "name": "tf_env"
  },
  "language_info": {
   "codemirror_mode": {
    "name": "ipython",
    "version": 3
   },
   "file_extension": ".py",
   "mimetype": "text/x-python",
   "name": "python",
   "nbconvert_exporter": "python",
   "pygments_lexer": "ipython3",
   "version": "3.8.18"
  }
 },
 "nbformat": 4,
 "nbformat_minor": 5
}
